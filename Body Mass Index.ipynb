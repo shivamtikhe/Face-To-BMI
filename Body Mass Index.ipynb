{
 "cells": [
  {
   "cell_type": "code",
   "execution_count": 53,
   "metadata": {},
   "outputs": [],
   "source": [
    "import face_recognition\n",
    "import numpy as np\n",
    "import seaborn as sns\n",
    "import pandas as pd\n",
    "import matplotlib.pyplot as plt\n",
    "%matplotlib inline"
   ]
  },
  {
   "cell_type": "code",
   "execution_count": 54,
   "metadata": {},
   "outputs": [],
   "source": [
    "df = pd.read_csv('annotation.csv')"
   ]
  },
  {
   "cell_type": "code",
   "execution_count": 55,
   "metadata": {},
   "outputs": [
    {
     "data": {
      "text/html": [
       "<div>\n",
       "<style scoped>\n",
       "    .dataframe tbody tr th:only-of-type {\n",
       "        vertical-align: middle;\n",
       "    }\n",
       "\n",
       "    .dataframe tbody tr th {\n",
       "        vertical-align: top;\n",
       "    }\n",
       "\n",
       "    .dataframe thead th {\n",
       "        text-align: right;\n",
       "    }\n",
       "</style>\n",
       "<table border=\"1\" class=\"dataframe\">\n",
       "  <thead>\n",
       "    <tr style=\"text-align: right;\">\n",
       "      <th></th>\n",
       "      <th>image</th>\n",
       "      <th>height</th>\n",
       "      <th>weight</th>\n",
       "      <th>BMI</th>\n",
       "    </tr>\n",
       "  </thead>\n",
       "  <tbody>\n",
       "    <tr>\n",
       "      <th>0</th>\n",
       "      <td>f_001</td>\n",
       "      <td>1.55</td>\n",
       "      <td>61.0</td>\n",
       "      <td>25.390219</td>\n",
       "    </tr>\n",
       "    <tr>\n",
       "      <th>1</th>\n",
       "      <td>f_002</td>\n",
       "      <td>1.76</td>\n",
       "      <td>85.0</td>\n",
       "      <td>27.440599</td>\n",
       "    </tr>\n",
       "    <tr>\n",
       "      <th>2</th>\n",
       "      <td>f_003</td>\n",
       "      <td>1.78</td>\n",
       "      <td>56.0</td>\n",
       "      <td>17.674536</td>\n",
       "    </tr>\n",
       "    <tr>\n",
       "      <th>3</th>\n",
       "      <td>f_004</td>\n",
       "      <td>1.63</td>\n",
       "      <td>63.0</td>\n",
       "      <td>23.711845</td>\n",
       "    </tr>\n",
       "    <tr>\n",
       "      <th>4</th>\n",
       "      <td>f_005</td>\n",
       "      <td>1.76</td>\n",
       "      <td>54.0</td>\n",
       "      <td>17.432851</td>\n",
       "    </tr>\n",
       "    <tr>\n",
       "      <th>...</th>\n",
       "      <td>...</td>\n",
       "      <td>...</td>\n",
       "      <td>...</td>\n",
       "      <td>...</td>\n",
       "    </tr>\n",
       "    <tr>\n",
       "      <th>1021</th>\n",
       "      <td>m_509</td>\n",
       "      <td>1.91</td>\n",
       "      <td>116.0</td>\n",
       "      <td>31.797374</td>\n",
       "    </tr>\n",
       "    <tr>\n",
       "      <th>1022</th>\n",
       "      <td>m_510</td>\n",
       "      <td>1.93</td>\n",
       "      <td>111.0</td>\n",
       "      <td>29.799458</td>\n",
       "    </tr>\n",
       "    <tr>\n",
       "      <th>1023</th>\n",
       "      <td>m_511</td>\n",
       "      <td>1.88</td>\n",
       "      <td>109.0</td>\n",
       "      <td>30.839746</td>\n",
       "    </tr>\n",
       "    <tr>\n",
       "      <th>1024</th>\n",
       "      <td>m_512</td>\n",
       "      <td>1.78</td>\n",
       "      <td>75.0</td>\n",
       "      <td>23.671254</td>\n",
       "    </tr>\n",
       "    <tr>\n",
       "      <th>1025</th>\n",
       "      <td>m_513</td>\n",
       "      <td>2.21</td>\n",
       "      <td>137.0</td>\n",
       "      <td>28.050204</td>\n",
       "    </tr>\n",
       "  </tbody>\n",
       "</table>\n",
       "<p>1026 rows × 4 columns</p>\n",
       "</div>"
      ],
      "text/plain": [
       "      image  height  weight        BMI\n",
       "0     f_001    1.55    61.0  25.390219\n",
       "1     f_002    1.76    85.0  27.440599\n",
       "2     f_003    1.78    56.0  17.674536\n",
       "3     f_004    1.63    63.0  23.711845\n",
       "4     f_005    1.76    54.0  17.432851\n",
       "...     ...     ...     ...        ...\n",
       "1021  m_509    1.91   116.0  31.797374\n",
       "1022  m_510    1.93   111.0  29.799458\n",
       "1023  m_511    1.88   109.0  30.839746\n",
       "1024  m_512    1.78    75.0  23.671254\n",
       "1025  m_513    2.21   137.0  28.050204\n",
       "\n",
       "[1026 rows x 4 columns]"
      ]
     },
     "execution_count": 55,
     "metadata": {},
     "output_type": "execute_result"
    }
   ],
   "source": [
    "df"
   ]
  },
  {
   "cell_type": "code",
   "execution_count": 56,
   "metadata": {},
   "outputs": [],
   "source": [
    "dff = df[0:513]\n",
    "dfm = df[513:]"
   ]
  },
  {
   "cell_type": "code",
   "execution_count": 57,
   "metadata": {},
   "outputs": [],
   "source": [
    "def get_face_encoding(image_path):\n",
    "    try:\n",
    "        picture_of_me = face_recognition.load_image_file(image_path)\n",
    "    except FileNotFoundError:\n",
    "        print(image_path + \" no file found\")\n",
    "        return np.zeros(128).tolist()\n",
    "    my_face_encoding = face_recognition.face_encodings(picture_of_me)\n",
    "    if not my_face_encoding:\n",
    "        print(image_path + \" no face found !!!\")\n",
    "        return np.zeros(128).tolist()\n",
    "    return my_face_encoding[0].tolist()"
   ]
  },
  {
   "cell_type": "code",
   "execution_count": 58,
   "metadata": {},
   "outputs": [
    {
     "name": "stdout",
     "output_type": "stream",
     "text": [
      "D:\\Projects\\Machine Learning\\BMI\\vip\\vip\\data\\data\\f_090.jpg no face found !!!\n",
      "D:\\Projects\\Machine Learning\\BMI\\vip\\vip\\data\\data\\f_325.jpg no face found !!!\n",
      "D:\\Projects\\Machine Learning\\BMI\\vip\\vip\\data\\data\\f_406.jpg no face found !!!\n",
      "D:\\Projects\\Machine Learning\\BMI\\vip\\vip\\data\\data\\m_118.jpg no face found !!!\n",
      "D:\\Projects\\Machine Learning\\BMI\\vip\\vip\\data\\data\\m_130.jpg no face found !!!\n",
      "D:\\Projects\\Machine Learning\\BMI\\vip\\vip\\data\\data\\m_196.jpg no face found !!!\n",
      "D:\\Projects\\Machine Learning\\BMI\\vip\\vip\\data\\data\\m_373.jpg no face found !!!\n",
      "D:\\Projects\\Machine Learning\\BMI\\vip\\vip\\data\\data\\m_390.jpg no face found !!!\n",
      "D:\\Projects\\Machine Learning\\BMI\\vip\\vip\\data\\data\\m_452.jpg no face found !!!\n",
      "D:\\Projects\\Machine Learning\\BMI\\vip\\vip\\data\\data\\m_455.jpg no face found !!!\n",
      "D:\\Projects\\Machine Learning\\BMI\\vip\\vip\\data\\data\\m_493.jpg no face found !!!\n"
     ]
    }
   ],
   "source": [
    "all_faces = []\n",
    "for image_name in df.image:\n",
    "  face_enc = get_face_encoding(\"D:\\\\Projects\\\\Machine Learning\\\\BMI\\\\vip\\\\vip\\\\data\\\\data\\\\\"+image_name+\".jpg\")\n",
    "  all_faces.append(face_enc)"
   ]
  },
  {
   "cell_type": "code",
   "execution_count": 59,
   "metadata": {},
   "outputs": [],
   "source": [
    "X = np.array(all_faces) ## This is the training data matrix\n",
    "y_height = df.height.values ## all labels\n",
    "y_weight = df.weight.values\n",
    "y_BMI = df.BMI.values\n",
    "plotX = pd.DataFrame(X)"
   ]
  },
  {
   "cell_type": "code",
   "execution_count": 60,
   "metadata": {},
   "outputs": [],
   "source": [
    "from sklearn.model_selection import train_test_split\n",
    "X_train, X_test, y_height_train, y_height_test, y_weight_train, y_weight_test ,y_BMI_train, y_BMI_test = train_test_split(X, y_height,y_weight,y_BMI, random_state=69)"
   ]
  },
  {
   "cell_type": "code",
   "execution_count": 61,
   "metadata": {},
   "outputs": [],
   "source": [
    "def report_goodness(model, X_test, y_test, predictor_log=True):\n",
    "    # Make predictions using the testing set\n",
    "    y_pred = model.predict(X_test)\n",
    "    y_true = y_test\n",
    "\n",
    "    if predictor_log:\n",
    "        y_true = np.log(y_test)\n",
    "    # The coefficients\n",
    "    # The mean squared error\n",
    "    print(\"Mean squared error: %.2f\"      % mean_squared_error(y_true, y_pred))\n",
    "    # Explained variance score: 1 is perfect prediction\n",
    "    print('Variance score: %.2f' % r2_score(y_true, y_pred))\n",
    "    \n",
    "    errors = abs(y_pred - y_true)\n",
    "    mape = 100 * np.mean(errors / y_true)\n",
    "    accuracy = 100 - mape\n",
    "    print('Model Performance')\n",
    "    print('Average Error: {:0.4f} degrees.'.format(np.mean(errors)))\n",
    "    print('Accuracy = {:0.2f}%.'.format(accuracy))"
   ]
  },
  {
   "cell_type": "code",
   "execution_count": 62,
   "metadata": {},
   "outputs": [],
   "source": [
    "from sklearn.kernel_ridge import KernelRidge\n",
    "from sklearn import  linear_model\n",
    "from sklearn.linear_model import Ridge\n",
    "from sklearn.ensemble import RandomForestRegressor\n",
    "from sklearn.metrics import mean_squared_error, r2_score"
   ]
  },
  {
   "cell_type": "code",
   "execution_count": 63,
   "metadata": {},
   "outputs": [
    {
     "name": "stdout",
     "output_type": "stream",
     "text": [
      "Mean squared error: 6.57\n",
      "Variance score: -236.34\n",
      "Model Performance\n",
      "Average Error: 2.5588 degrees.\n",
      "Accuracy = 18.01%.\n"
     ]
    }
   ],
   "source": [
    "model_BMI = linear_model.LinearRegression()\n",
    "model_BMI = model_BMI.fit(X_train, np.log(y_BMI_train))\n",
    "report_goodness(model_height, X_test, y_BMI_test)"
   ]
  },
  {
   "cell_type": "code",
   "execution_count": 64,
   "metadata": {},
   "outputs": [
    {
     "name": "stdout",
     "output_type": "stream",
     "text": [
      "Mean squared error: 0.02\n",
      "Variance score: 0.31\n",
      "Model Performance\n",
      "Average Error: 0.0922 degrees.\n",
      "Accuracy = 97.11%.\n"
     ]
    }
   ],
   "source": [
    "model_BMI = Ridge(fit_intercept=True, alpha=0.0015, random_state=4, normalize=True)\n",
    "model_BMI = model_BMI.fit(X_train, np.log(y_BMI_train))\n",
    "report_goodness(model_BMI, X_test, y_BMI_test)"
   ]
  },
  {
   "cell_type": "code",
   "execution_count": 65,
   "metadata": {},
   "outputs": [
    {
     "name": "stdout",
     "output_type": "stream",
     "text": [
      "Mean squared error: 0.02\n",
      "Variance score: 0.22\n",
      "Model Performance\n",
      "Average Error: 0.0979 degrees.\n",
      "Accuracy = 96.92%.\n"
     ]
    }
   ],
   "source": [
    "model_BMI = RandomForestRegressor(max_depth=2, random_state=0, n_estimators=100)\n",
    "model_BMI = model_BMI.fit(X_train, np.log(y_BMI_train))\n",
    "report_goodness(model_BMI, X_test, y_BMI_test)"
   ]
  },
  {
   "cell_type": "code",
   "execution_count": 52,
   "metadata": {},
   "outputs": [
    {
     "name": "stdout",
     "output_type": "stream",
     "text": [
      "Mean squared error: 0.02\n",
      "Variance score: 0.28\n",
      "Model Performance\n",
      "Average Error: 0.0986 degrees.\n",
      "Accuracy = 96.91%.\n"
     ]
    }
   ],
   "source": [
    "model_BMI_kridge = KernelRidge(kernel='rbf', gamma=0.21, alpha=0.0017)\n",
    "model_BMI_kridge = model_BMI_kridge.fit(X_train, np.log(y_BMI_train))\n",
    "report_goodness(model_BMI_kridge, X_test, y_BMI_test)"
   ]
  },
  {
   "cell_type": "code",
   "execution_count": 84,
   "metadata": {},
   "outputs": [
    {
     "name": "stdout",
     "output_type": "stream",
     "text": [
      "Mean squared error: 0.02\n",
      "Variance score: 0.34\n",
      "Model Performance\n",
      "Average Error: 0.0904 degrees.\n",
      "Accuracy = 97.17%.\n"
     ]
    }
   ],
   "source": [
    "from sklearn.svm import SVR\n",
    "model_SVR = SVR()\n",
    "model_SVR = model_SVR.fit(X_train, np.log(y_BMI_train))\n",
    "report_goodness(model_SVR, X_test, y_BMI_test)"
   ]
  },
  {
   "cell_type": "code",
   "execution_count": 71,
   "metadata": {},
   "outputs": [
    {
     "name": "stdout",
     "output_type": "stream",
     "text": [
      "Mean squared error: 0.02\n",
      "Variance score: 0.30\n",
      "Model Performance\n",
      "Average Error: 0.0927 degrees.\n",
      "Accuracy = 97.10%.\n"
     ]
    }
   ],
   "source": [
    "model_SVRh = SVR(kernel = 'linear')\n",
    "model_SVRh = model_SVRh.fit(X_train, np.log(y_BMI_train))\n",
    "report_goodness(model_SVRh, X_test, y_BMI_test)"
   ]
  },
  {
   "cell_type": "code",
   "execution_count": 74,
   "metadata": {},
   "outputs": [
    {
     "name": "stdout",
     "output_type": "stream",
     "text": [
      "Mean squared error: 0.02\n",
      "Variance score: 0.31\n",
      "Model Performance\n",
      "Average Error: 0.0923 degrees.\n",
      "Accuracy = 97.11%.\n"
     ]
    },
    {
     "name": "stderr",
     "output_type": "stream",
     "text": [
      "C:\\Users\\osaru\\.conda\\envs\\CompVis\\lib\\site-packages\\ipykernel_launcher.py:3: UserWarning: With alpha=0, this algorithm does not converge well. You are advised to use the LinearRegression estimator\n",
      "  This is separate from the ipykernel package so we can avoid doing imports until\n",
      "C:\\Users\\osaru\\.conda\\envs\\CompVis\\lib\\site-packages\\sklearn\\linear_model\\_coordinate_descent.py:532: UserWarning: Coordinate descent with no regularization may lead to unexpected results and is discouraged.\n",
      "  positive)\n",
      "C:\\Users\\osaru\\.conda\\envs\\CompVis\\lib\\site-packages\\sklearn\\linear_model\\_coordinate_descent.py:532: ConvergenceWarning: Objective did not converge. You might want to increase the number of iterations. Duality gap: 4.653325703425932, tolerance: 0.002020208245859056\n",
      "  positive)\n"
     ]
    }
   ],
   "source": [
    "from sklearn.linear_model import Lasso\n",
    "model_Lasso = Lasso(alpha=0.00)\n",
    "model_Lasso = model_Lasso.fit(X_train, np.log(y_BMI_train))\n",
    "report_goodness(model_Lasso, X_test, y_BMI_test)"
   ]
  },
  {
   "cell_type": "code",
   "execution_count": 81,
   "metadata": {},
   "outputs": [
    {
     "data": {
      "text/html": [
       "<div>\n",
       "<style scoped>\n",
       "    .dataframe tbody tr th:only-of-type {\n",
       "        vertical-align: middle;\n",
       "    }\n",
       "\n",
       "    .dataframe tbody tr th {\n",
       "        vertical-align: top;\n",
       "    }\n",
       "\n",
       "    .dataframe thead th {\n",
       "        text-align: right;\n",
       "    }\n",
       "</style>\n",
       "<table border=\"1\" class=\"dataframe\">\n",
       "  <thead>\n",
       "    <tr style=\"text-align: right;\">\n",
       "      <th></th>\n",
       "      <th>weight</th>\n",
       "    </tr>\n",
       "  </thead>\n",
       "  <tbody>\n",
       "    <tr>\n",
       "      <th>0</th>\n",
       "      <td>61.0</td>\n",
       "    </tr>\n",
       "    <tr>\n",
       "      <th>1</th>\n",
       "      <td>85.0</td>\n",
       "    </tr>\n",
       "    <tr>\n",
       "      <th>2</th>\n",
       "      <td>56.0</td>\n",
       "    </tr>\n",
       "    <tr>\n",
       "      <th>3</th>\n",
       "      <td>63.0</td>\n",
       "    </tr>\n",
       "    <tr>\n",
       "      <th>4</th>\n",
       "      <td>54.0</td>\n",
       "    </tr>\n",
       "    <tr>\n",
       "      <th>5</th>\n",
       "      <td>56.0</td>\n",
       "    </tr>\n",
       "    <tr>\n",
       "      <th>6</th>\n",
       "      <td>54.0</td>\n",
       "    </tr>\n",
       "    <tr>\n",
       "      <th>7</th>\n",
       "      <td>57.0</td>\n",
       "    </tr>\n",
       "    <tr>\n",
       "      <th>8</th>\n",
       "      <td>63.0</td>\n",
       "    </tr>\n",
       "    <tr>\n",
       "      <th>9</th>\n",
       "      <td>51.0</td>\n",
       "    </tr>\n",
       "    <tr>\n",
       "      <th>10</th>\n",
       "      <td>64.0</td>\n",
       "    </tr>\n",
       "    <tr>\n",
       "      <th>11</th>\n",
       "      <td>58.0</td>\n",
       "    </tr>\n",
       "    <tr>\n",
       "      <th>12</th>\n",
       "      <td>72.0</td>\n",
       "    </tr>\n",
       "    <tr>\n",
       "      <th>13</th>\n",
       "      <td>58.0</td>\n",
       "    </tr>\n",
       "    <tr>\n",
       "      <th>14</th>\n",
       "      <td>52.0</td>\n",
       "    </tr>\n",
       "  </tbody>\n",
       "</table>\n",
       "</div>"
      ],
      "text/plain": [
       "    weight\n",
       "0     61.0\n",
       "1     85.0\n",
       "2     56.0\n",
       "3     63.0\n",
       "4     54.0\n",
       "5     56.0\n",
       "6     54.0\n",
       "7     57.0\n",
       "8     63.0\n",
       "9     51.0\n",
       "10    64.0\n",
       "11    58.0\n",
       "12    72.0\n",
       "13    58.0\n",
       "14    52.0"
      ]
     },
     "execution_count": 81,
     "metadata": {},
     "output_type": "execute_result"
    }
   ],
   "source": [
    "df['weight'].to_frame().head(15)"
   ]
  },
  {
   "cell_type": "code",
   "execution_count": 82,
   "metadata": {},
   "outputs": [],
   "source": [
    "srk = []"
   ]
  },
  {
   "cell_type": "code",
   "execution_count": 88,
   "metadata": {},
   "outputs": [],
   "source": [
    "srk = get_face_encoding(\"D:\\\\Projects\\\\Machine Learning\\\\srk.jpg\")"
   ]
  },
  {
   "cell_type": "code",
   "execution_count": 93,
   "metadata": {},
   "outputs": [],
   "source": [
    "test_array_srk = np.expand_dims(np.array(get_face_encoding(\"D:\\\\Projects\\\\Machine Learning\\\\srk.jpg\")), axis=0)"
   ]
  },
  {
   "cell_type": "code",
   "execution_count": 94,
   "metadata": {},
   "outputs": [],
   "source": [
    "bmis = np.exp(model_SVR.predict(test_array_srk)).item()"
   ]
  },
  {
   "cell_type": "code",
   "execution_count": 95,
   "metadata": {},
   "outputs": [
    {
     "data": {
      "text/plain": [
       "25.856873813311804"
      ]
     },
     "execution_count": 95,
     "metadata": {},
     "output_type": "execute_result"
    }
   ],
   "source": [
    "bmi"
   ]
  },
  {
   "cell_type": "code",
   "execution_count": 96,
   "metadata": {},
   "outputs": [],
   "source": [
    "test_array_k = np.expand_dims(np.array(get_face_encoding(\"D:\\\\Projects\\\\Machine Learning\\\\kohli.jpg\")), axis=0)"
   ]
  },
  {
   "cell_type": "code",
   "execution_count": 97,
   "metadata": {},
   "outputs": [],
   "source": [
    "bmik = np.exp(model_SVR.predict(test_array_k)).item()"
   ]
  },
  {
   "cell_type": "code",
   "execution_count": 98,
   "metadata": {},
   "outputs": [
    {
     "data": {
      "text/plain": [
       "25.75980971133189"
      ]
     },
     "execution_count": 98,
     "metadata": {},
     "output_type": "execute_result"
    }
   ],
   "source": [
    "bmik"
   ]
  },
  {
   "cell_type": "code",
   "execution_count": 99,
   "metadata": {},
   "outputs": [],
   "source": [
    "test_array_sh = np.expand_dims(np.array(get_face_encoding(\"D:\\\\Projects\\\\Machine Learning\\\\shiv.jpg\")), axis=0)"
   ]
  },
  {
   "cell_type": "code",
   "execution_count": 100,
   "metadata": {},
   "outputs": [],
   "source": [
    "bmish = np.exp(model_SVR.predict(test_array_sh)).item()"
   ]
  },
  {
   "cell_type": "code",
   "execution_count": 101,
   "metadata": {},
   "outputs": [
    {
     "data": {
      "text/plain": [
       "30.82502944343218"
      ]
     },
     "execution_count": 101,
     "metadata": {},
     "output_type": "execute_result"
    }
   ],
   "source": [
    "bmish"
   ]
  },
  {
   "cell_type": "code",
   "execution_count": null,
   "metadata": {},
   "outputs": [],
   "source": []
  }
 ],
 "metadata": {
  "kernelspec": {
   "display_name": "Python 3",
   "language": "python",
   "name": "python3"
  },
  "language_info": {
   "codemirror_mode": {
    "name": "ipython",
    "version": 3
   },
   "file_extension": ".py",
   "mimetype": "text/x-python",
   "name": "python",
   "nbconvert_exporter": "python",
   "pygments_lexer": "ipython3",
   "version": "3.7.7"
  }
 },
 "nbformat": 4,
 "nbformat_minor": 4
}
